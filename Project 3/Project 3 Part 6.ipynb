{
 "cells": [
  {
   "cell_type": "code",
   "execution_count": 84,
   "metadata": {},
   "outputs": [],
   "source": [
    "# Loading Libraries\n",
    "import os\n",
    "import csv\n",
    "import numpy as np\n",
    "from sklearn.model_selection import KFold\n",
    "import matplotlib.pyplot as plt\n",
    "from sklearn.metrics import roc_curve, auc\n",
    "from sklearn.metrics import mean_squared_error\n",
    "from math import sqrt"
   ]
  },
  {
   "cell_type": "markdown",
   "metadata": {},
   "source": [
    "# Part 6: Naive collaborative ﬁltering"
   ]
  },
  {
   "cell_type": "code",
   "execution_count": 2,
   "metadata": {},
   "outputs": [],
   "source": [
    "# loading the data\n",
    "file_path_ratings = os.path.expanduser('~/Documents/GitHub/ee219/Project 3/ml-latest-small/ml-latest-small/ratings.csv')\n",
    "file_path_movies = os.path.expanduser('~/Documents/GitHub/ee219/Project 3/ml-latest-small/ml-latest-small/movies.csv')\n",
    "\n",
    "movie_list = []\n",
    "\n",
    "user_id = []\n",
    "movie_id = []\n",
    "ratings = []\n",
    "\n",
    "# loading the movie list\n",
    "with open(file_path_movies) as csvfile:\n",
    "    reader = csv.DictReader(csvfile)\n",
    "    for row in reader:\n",
    "        movie_list.append(int(row['movieId']))\n",
    "\n",
    "# loading the user_id and ratings\n",
    "with open(file_path_ratings) as csvfile:\n",
    "    reader = csv.DictReader(csvfile)\n",
    "    for row in reader:\n",
    "        user_id.append(int(row['userId']))\n",
    "        movie_id.append(int(row['movieId']))\n",
    "        ratings.append(float(row['rating']))"
   ]
  },
  {
   "cell_type": "code",
   "execution_count": 3,
   "metadata": {},
   "outputs": [],
   "source": [
    "# Making the R matrix\n",
    "# There are 671 users and 9125 movies\n",
    "R = np.zeros((671, 9125))\n",
    "for i in xrange(0, np.size(user_id)):\n",
    "    x = user_id[i] - 1\n",
    "    y = movie_list.index(movie_id[i])    \n",
    "    R[x,y] = ratings[i]"
   ]
  },
  {
   "cell_type": "markdown",
   "metadata": {},
   "source": [
    "## Question 30"
   ]
  },
  {
   "cell_type": "code",
   "execution_count": 28,
   "metadata": {},
   "outputs": [],
   "source": [
    "# Finding the mean ratings for all users\n",
    "mean_ratings = np.sum(R, 1) / np.size(R, 0)\n",
    "data = []\n",
    "data.append(user_id)\n",
    "data.append(movie_id)\n",
    "data.append(ratings)\n",
    "data = np.transpose(data)"
   ]
  },
  {
   "cell_type": "code",
   "execution_count": 79,
   "metadata": {},
   "outputs": [],
   "source": [
    "def naive_collab_filt(test):\n",
    "    N = np.size(test,0)\n",
    "    predicted = []\n",
    "    actual = []\n",
    "    for i in xrange(0, N, 1):\n",
    "        predicted = mean_ratings[int(test[i][0] -1)] # Getting the mean rating from current user\n",
    "        actual = test[i][2]\n",
    "    \n",
    "    return predicted, actual\n",
    "\n",
    "def root_mean_square_error(actual, pred):\n",
    "    return sqrt(np.nanmean(np.square(np.subtract(pred, actual))))"
   ]
  },
  {
   "cell_type": "code",
   "execution_count": 83,
   "metadata": {},
   "outputs": [
    {
     "name": "stdout",
     "output_type": "stream",
     "text": [
      "Average Overall RMSE is  3.44642324888\n"
     ]
    }
   ],
   "source": [
    "kf = KFold(n_splits=10)\n",
    "\n",
    "RMSE = []\n",
    "\n",
    "for train_index, test_index in kf.split(data):\n",
    "    y_predicted, y_actual = naive_collab_filt(data[test_index])\n",
    "    RMSE.append(root_mean_square_error(y_actual, y_predicted))\n",
    "    \n",
    "    \n",
    "print 'Average Overall RMSE is ', np.nanmean(RMSE)"
   ]
  },
  {
   "cell_type": "markdown",
   "metadata": {},
   "source": [
    "## Questions 31, 32, 33"
   ]
  },
  {
   "cell_type": "code",
   "execution_count": 87,
   "metadata": {},
   "outputs": [],
   "source": [
    "# Finding the number of ratings per movie\n",
    "count_m = np.count_nonzero(R, axis=0)\n",
    "# var_m = variance of movies\n",
    "var_m = np.var(R, axis = 0)\n",
    "# movie_list has the list of movie_ids to correlate it with the position in array"
   ]
  },
  {
   "cell_type": "code",
   "execution_count": 88,
   "metadata": {},
   "outputs": [],
   "source": [
    "## Testdata is split into 3 columns (user_id-string, movie_id-)\n",
    "def trim(testdata):\n",
    "    popular = []\n",
    "    nonpopular = []\n",
    "    high_var = []\n",
    "    \n",
    "    for i in xrange(0, np.size(testdata,0), 1):\n",
    "        index = movie_list.index(int(testdata[i][1]) ) \n",
    "                                 \n",
    "        # Testing for popular/nonpopular   \n",
    "        if count_m[index] > 2:\n",
    "            popular.append(testdata[i])\n",
    "        else:\n",
    "            nonpopular.append(testdata[i])\n",
    "        \n",
    "        # Testing for high variance\n",
    "        if (count_m[index] >= 5) and (var_m[index] >= 2):\n",
    "            high_var.append(testdata[i])\n",
    "                                 \n",
    "    \n",
    "    return popular, nonpopular, high_var"
   ]
  },
  {
   "cell_type": "code",
   "execution_count": 89,
   "metadata": {},
   "outputs": [
    {
     "name": "stdout",
     "output_type": "stream",
     "text": [
      "Average RMSE for popular movies is  3.39642324888\n",
      "Average RMSE for nonpopular movies is  3.1629657228\n",
      "Average RMSE for high variance movies is  3.33464977645\n"
     ]
    }
   ],
   "source": [
    "# Making RMSE\n",
    "RMSE_P = []\n",
    "RMSE_NP = []\n",
    "RMSE_HV = []\n",
    "\n",
    "for train_index, test_index in kf.split(data):\n",
    "    popular, nonpopular, high_var = trim(data[test_index])\n",
    "    \n",
    "    # Calculating popular\n",
    "    y_predicted, y_actual = naive_collab_filt(popular)\n",
    "    RMSE_P.append(root_mean_square_error(y_actual, y_predicted))\n",
    "    \n",
    "    # Calculating nonpopular\n",
    "    y_predicted, y_actual = naive_collab_filt(nonpopular)\n",
    "    RMSE_NP.append(root_mean_square_error(y_actual, y_predicted))\n",
    "    \n",
    "    # Calculating high variance\n",
    "    y_predicted, y_actual = naive_collab_filt(high_var)\n",
    "    RMSE_HV.append(root_mean_square_error(y_actual, y_predicted))\n",
    "    \n",
    "print 'Average RMSE for popular movies is ', np.nanmean(RMSE_P)\n",
    "print 'Average RMSE for nonpopular movies is ', np.nanmean(RMSE_NP)\n",
    "print 'Average RMSE for high variance movies is ', np.nanmean(RMSE_HV)"
   ]
  },
  {
   "cell_type": "code",
   "execution_count": null,
   "metadata": {},
   "outputs": [],
   "source": []
  }
 ],
 "metadata": {
  "kernelspec": {
   "display_name": "Python 2",
   "language": "python",
   "name": "python2"
  },
  "language_info": {
   "codemirror_mode": {
    "name": "ipython",
    "version": 2
   },
   "file_extension": ".py",
   "mimetype": "text/x-python",
   "name": "python",
   "nbconvert_exporter": "python",
   "pygments_lexer": "ipython2",
   "version": "2.7.5"
  }
 },
 "nbformat": 4,
 "nbformat_minor": 2
}
