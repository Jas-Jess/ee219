{
 "cells": [
  {
   "cell_type": "markdown",
   "metadata": {},
   "source": [
    "### Pandas\n",
    "Basic Datastructure:\n",
    "1. Series is a one-dimensional labeled array capable of holding any data type (integers, strings, floating point numbers, Python objects, etc.). \n",
    "2. DataFrame is a 2-dimensional labeled data structure with columns of potentially different types\n",
    "3. Panel is a somewhat less-used, but still important container for 3-dimensional data. The term panel data is derived from econometrics and is partially responsible for the name pandas: pan(el)-da(ta)-s. \n",
    "\n",
    "#### Examples:\n",
    "DataFrame:(Quick tutorial:https://www.tutorialspoint.com/python_pandas/python_pandas_dataframe.htm)\n",
    "1. create dataframe\n",
    "2. select and index\n",
    "3. convert"
   ]
  },
  {
   "cell_type": "code",
   "execution_count": 2,
   "metadata": {},
   "outputs": [
    {
     "name": "stdout",
     "output_type": "stream",
     "text": [
      "<type 'numpy.ndarray'>\n",
      "          A         B         C         D\n",
      "0  1.217857 -0.524437 -0.124648 -0.609837\n",
      "1  0.048445 -0.798330  0.599997  0.146787\n",
      "2  2.286321  0.300198  2.423772  0.170754\n",
      "3  2.358383  0.176296  0.408424 -0.650785\n",
      "4  1.130357 -0.185300 -0.088679 -0.407462\n",
      "5  1.768876  0.199540 -0.297201 -0.105841\n",
      "6 -0.970151 -1.104882  0.115520  0.059623\n",
      "7 -0.664342 -0.149694  0.370762 -0.165210\n",
      "          A         B\n",
      "0  1.217857 -0.524437\n",
      "1  0.048445 -0.798330\n",
      "2  2.286321  0.300198\n",
      "3  2.358383  0.176296\n",
      "4  1.130357 -0.185300\n",
      "5  1.768876  0.199540\n",
      "6 -0.970151 -1.104882\n",
      "7 -0.664342 -0.149694\n"
     ]
    }
   ],
   "source": [
    "import pandas as pd\n",
    "import numpy as np\n",
    "#df=pd.read_csv('clean_dataset.csv', sep=',',header='infer')\n",
    "df = pd.DataFrame(np.random.randn(8, 4), columns = ['A', 'B', 'C', 'D'])\n",
    "#print df['A']< 0\n",
    "#print \"subset:\"\n",
    "#print df[df['A']< 0]\n",
    "df.loc[:,'A']\n",
    "tmp_data = df[df['A'] < 0]\n",
    "print type(tmp_data.values)\n",
    "#print tmp_data\n",
    "print df\n",
    "print df[['A','B']]"
   ]
  },
  {
   "cell_type": "markdown",
   "metadata": {},
   "source": [
    "## Feature Engineering:\n",
    "ref: \n",
    "https://www.youtube.com/watch?v=LMlzHfJPvjI&list=PL7tqo8Xk0expKfOuKz9AWWQ0rqIhtjjfP&index=16\n",
    "\n",
    "From raw data to useful features\n",
    "1. Feature extraction, preprocessing\n",
    "2. Feature selection\n",
    "    1. Remove useless features\n",
    "    2. sklearn: statistics, correlation, model_based\n",
    "    2. Feature Generation\n",
    "\n",
    "E.g. Automatic Feature Generation:\n",
    "1. multiplicative interactions\n",
    "2. Function transformation: $x^2, sqrt(x), ln(x)$\n",
    "3. Automated Threshold Selection:\n",
    "    1. Turn a numerical variable into a binary\n",
    "    2. Find a cut off point automatically\n",
    "    \n",
    "Automatic Feature Selection：\n",
    "1. Correlation Filtering:\n",
    "    How to choose among those correlated features? \n"
   ]
  },
  {
   "cell_type": "markdown",
   "metadata": {},
   "source": [
    "## Feature preprocessing\n",
    "1. scaling\n",
    "     1. to [0,1]:\n",
    "        sklearn.preprocessing.MinMaxScaler\n",
    "     2. to mean=0,std=1:\n",
    "         sklearn.preprocessing.StandardScaler\n",
    "     3. http://scikit-learn.org/stable/auto_examples/preprocessing/plot_all_scaling.html#sphx-glr-auto-examples-preprocessing-plot-all-scaling-py\n",
    "2. outlier\n",
    "4. encoding\n",
    "     1. rank: set spaces between sorted values equal"
   ]
  },
  {
   "cell_type": "markdown",
   "metadata": {},
   "source": [
    "### Feature encoding\n",
    "reference: https://zh.coursera.org/learn/competitive-data-science/lecture/wckTQ/datetime-and-coordinates\n",
    "#### Type of features\n",
    "1. Numerical features\n",
    "2. Categorical features\n",
    "3. Ordinal features\n",
    "4. Datetime and coordiantes\n",
    "5. Handling missing values\n",
    "\n",
    "\n"
   ]
  },
  {
   "cell_type": "code",
   "execution_count": 31,
   "metadata": {},
   "outputs": [
    {
     "name": "stdout",
     "output_type": "stream",
     "text": [
      "original: \n",
      "[[0, 0, 3], [1, 1, 0], [0, 2, 1], [1, 0, 2]]\n",
      "\n",
      "\n",
      "[2 3 4]\n",
      "[0 2 5 9]\n",
      "[[ 1.  0.  1.  0.  0.  0.  0.  0.  1.]\n",
      " [ 0.  1.  0.  1.  0.  1.  0.  0.  0.]\n",
      " [ 1.  0.  0.  0.  1.  0.  1.  0.  0.]\n",
      " [ 0.  1.  1.  0.  0.  0.  0.  1.  0.]]\n",
      "\n",
      "\n",
      "[3]\n",
      "[0 3]\n",
      "[[ 1.  0.  0.  0.  3.]\n",
      " [ 0.  1.  0.  1.  0.]\n",
      " [ 0.  0.  1.  0.  1.]\n",
      " [ 1.  0.  0.  1.  2.]]\n",
      "original\n"
     ]
    }
   ],
   "source": [
    "##Sample code for one hot encoding\n",
    "print \"original: \\n\", test_ft\n",
    "print '\\n'\n",
    "from sklearn.preprocessing import OneHotEncoder\n",
    "enc = OneHotEncoder()\n",
    "test_ft = [[0, 0, 3], [1, 1, 0], [0, 2, 1], [1, 0, 2]]\n",
    "enc.fit(test_ft)\n",
    "print enc.n_values_\n",
    "print enc.feature_indices_\n",
    "print enc.transform(test_ft).toarray()\n",
    "print '\\n'\n",
    "## select the transform fts\n",
    "mask_ft = [False, True, False]\n",
    "enc = OneHotEncoder(categorical_features=[1])\n",
    "test_ft = [[0, 0, 3], [1, 1, 0], [0, 2, 1], [1, 0, 2]]\n",
    "enc.fit(test_ft)\n",
    "print enc.n_values_\n",
    "print enc.feature_indices_\n",
    "print enc.transform(test_ft).toarray()\n",
    "\n",
    "print 'original'\n"
   ]
  },
  {
   "cell_type": "code",
   "execution_count": 7,
   "metadata": {},
   "outputs": [
    {
     "name": "stdout",
     "output_type": "stream",
     "text": [
      "[4 3]\n"
     ]
    }
   ],
   "source": [
    "enc = OneHotEncoder()\n",
    "test_ft = [[1,2], [3,2]]\n",
    "enc.fit(test_ft)\n",
    "print enc.n_values_"
   ]
  },
  {
   "cell_type": "code",
   "execution_count": 11,
   "metadata": {},
   "outputs": [
    {
     "name": "stdout",
     "output_type": "stream",
     "text": [
      "[False, True, False]\n"
     ]
    }
   ],
   "source": [
    "mask_ft = map(bool,[0, 1 ,0])\n",
    "print mask_ft"
   ]
  },
  {
   "cell_type": "markdown",
   "metadata": {},
   "source": [
    "### Introduction for features importance in the Random Forest\n",
    "ref: https://zh.coursera.org/learn/python-machine-learning/lecture/lF9QN/random-forests\n",
    "<img src=rf.png>"
   ]
  },
  {
   "cell_type": "code",
   "execution_count": null,
   "metadata": {
    "collapsed": true
   },
   "outputs": [],
   "source": [
    "# visualize the random forest\n"
   ]
  },
  {
   "cell_type": "code",
   "execution_count": null,
   "metadata": {},
   "outputs": [],
   "source": [
    "d"
   ]
  }
 ],
 "metadata": {
  "kernelspec": {
   "display_name": "Python 2",
   "language": "python",
   "name": "python2"
  },
  "language_info": {
   "codemirror_mode": {
    "name": "ipython",
    "version": 2
   },
   "file_extension": ".py",
   "mimetype": "text/x-python",
   "name": "python",
   "nbconvert_exporter": "python",
   "pygments_lexer": "ipython2",
   "version": "2.7.5"
  }
 },
 "nbformat": 4,
 "nbformat_minor": 2
}
